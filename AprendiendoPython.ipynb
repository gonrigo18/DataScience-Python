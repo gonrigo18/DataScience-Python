{
 "cells": [
  {
   "cell_type": "code",
   "execution_count": null,
   "id": "1cd5ed09-6485-4c55-86b1-6f8c009a3c87",
   "metadata": {},
   "outputs": [
    {
     "name": "stdout",
     "output_type": "stream",
     "text": [
      "hola mundo\n",
      "HOLA MUNDO\n",
      "Hola Mundo\n"
     ]
    }
   ],
   "source": [
    "str = \"Hola mundo\"\n",
    "print(str.lower())\n",
    "print(str.upper())\n",
    "print(str.title())"
   ]
  },
  {
   "cell_type": "code",
   "execution_count": null,
   "id": "fc114a70-1d16-4e0e-b654-4a55db070817",
   "metadata": {},
   "outputs": [
    {
     "data": {
      "text/plain": [
       "str"
      ]
     },
     "execution_count": 2,
     "metadata": {},
     "output_type": "execute_result"
    }
   ],
   "source": [
    "type(str)"
   ]
  },
  {
   "cell_type": "code",
   "execution_count": null,
   "id": "a1f82c7d-2b64-48dd-98cc-27f8eb2ed4af",
   "metadata": {},
   "outputs": [
    {
     "name": "stdout",
     "output_type": "stream",
     "text": [
      "Hola,Gonzalo!\n"
     ]
    }
   ],
   "source": [
    "str = \"hola\"\n",
    "print('Hola,{}!'.format('Gonzalo')) # se le pasa a {}! por parametros lo que esta dentro de .format()"
   ]
  },
  {
   "cell_type": "code",
   "execution_count": null,
   "id": "c8736925-aca8-4651-80c3-5d6d2049e0de",
   "metadata": {},
   "outputs": [
    {
     "name": "stdout",
     "output_type": "stream",
     "text": [
      "Hello World\n"
     ]
    }
   ],
   "source": [
    "str1 = \"Hello\"\n",
    "str2 = \"World\"\n",
    "print(f'{str1} {str2}')"
   ]
  },
  {
   "cell_type": "code",
   "execution_count": null,
   "id": "44b14b06-9a15-4686-a8d5-a7ff881d9d2e",
   "metadata": {},
   "outputs": [
    {
     "name": "stdout",
     "output_type": "stream",
     "text": [
      "Verdadero\n"
     ]
    }
   ],
   "source": [
    "anho_actual=2020\n",
    "anho_fabricacion=2020\n",
    "if(anho_actual==anho_fabricacion):\n",
    "    print('Verdadero')\n",
    "else:\n",
    "\tprint('Falso')"
   ]
  },
  {
   "cell_type": "code",
   "execution_count": null,
   "id": "2b1f5f86-a3ae-4713-bf69-152216609966",
   "metadata": {},
   "outputs": [],
   "source": [
    "''' esto es un\n",
    "comentario '''\n",
    "# esto es un comentario"
   ]
  },
  {
   "cell_type": "code",
   "execution_count": null,
   "id": "0d109f2a-48e6-4a9f-a859-34f59c447660",
   "metadata": {},
   "outputs": [
    {
     "name": "stdin",
     "output_type": "stream",
     "text": [
      "Diga su nombre:  gonzalo\n"
     ]
    },
    {
     "name": "stdout",
     "output_type": "stream",
     "text": [
      "Ingresaste gonzalo\n"
     ]
    }
   ],
   "source": [
    "str3 = input(\"Diga su nombre: \" )\n",
    "print(\"Ingresaste\", str3)"
   ]
  },
  {
   "cell_type": "code",
   "execution_count": null,
   "id": "137d26a2-6b8d-4c3a-9af1-d6f53f784505",
   "metadata": {},
   "outputs": [
    {
     "name": "stdout",
     "output_type": "stream",
     "text": [
      "Sumando\t 10\tcon\t20\ttenemos\t30\n"
     ]
    }
   ],
   "source": [
    "var_1\t=\t10\n",
    "var_2\t=\t20\n",
    "var_3\t=\t'Sumando\t'\n",
    "var_4\t=\t'\tcon\t'\n",
    "var_5\t=\t'\ttenemos\t'\n",
    "print(f'{var_3} {int(var_1)}{var_4}{int(var_2)}{var_5}{int(var_1+var_2)}')"
   ]
  },
  {
   "cell_type": "code",
   "execution_count": null,
   "id": "7e64af54-7ad2-492a-9f28-80ee72c3b655",
   "metadata": {},
   "outputs": [
    {
     "name": "stdin",
     "output_type": "stream",
     "text": [
      "Ingrese su año de nacimiento 1991\n"
     ]
    },
    {
     "name": "stdout",
     "output_type": "stream",
     "text": [
      "Su edad es:  29\n"
     ]
    }
   ],
   "source": [
    "fecha_nacimiento = input(\"Ingrese su año de nacimiento\", )\n",
    "print(\"Su edad es: \", 2020 - int(fecha_nacimiento))"
   ]
  },
  {
   "cell_type": "code",
   "execution_count": null,
   "id": "3917aa01-ed7f-48e0-a971-df36f0138b7d",
   "metadata": {},
   "outputs": [
    {
     "name": "stdin",
     "output_type": "stream",
     "text": [
      "Ingrese su altura:  1.9\n",
      "Ingrese su peso:  100\n"
     ]
    },
    {
     "name": "stdout",
     "output_type": "stream",
     "text": [
      "Su IMC (indice de masa corportal) es: 27.70083102493075\n"
     ]
    }
   ],
   "source": [
    "altura = input(\"Ingrese su altura: \", )\n",
    "peso = input (\"Ingrese su peso: \", )\n",
    "imc = float(peso) / float(altura)**2\n",
    "print (f'Su IMC (indice de masa corportal) es: {imc}')"
   ]
  }
 ],
 "metadata": {
  "kernelspec": {
   "display_name": "Python 3 (ipykernel)",
   "language": "python",
   "name": "python3"
  },
  "language_info": {
   "codemirror_mode": {
    "name": "ipython",
    "version": 3
   },
   "file_extension": ".py",
   "mimetype": "text/x-python",
   "name": "python",
   "nbconvert_exporter": "python",
   "pygments_lexer": "ipython3",
   "version": "3.9.13"
  }
 },
 "nbformat": 4,
 "nbformat_minor": 5
}
